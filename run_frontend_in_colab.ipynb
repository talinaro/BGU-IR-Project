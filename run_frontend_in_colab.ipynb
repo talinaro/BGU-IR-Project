{
 "cells": [
  {
   "cell_type": "code",
   "execution_count": 1,
   "metadata": {
    "colab": {
     "base_uri": "https://localhost:8080/"
    },
    "executionInfo": {
     "elapsed": 1459,
     "status": "ok",
     "timestamp": 1641285894378,
     "user": {
      "displayName": "Sise.ir Sise.ir",
      "photoUrl": "https://lh3.googleusercontent.com/a/default-user=s64",
      "userId": "17225177656144426835"
     },
     "user_tz": -120
    },
    "id": "bCPDHP7zTQJZ",
    "outputId": "d704e7ab-281a-442a-82f9-2398330f4bb2"
   },
   "outputs": [
    {
     "name": "stdout",
     "output_type": "stream",
     "text": [
      "[nltk_data] Downloading package stopwords to /root/nltk_data...\n",
      "[nltk_data]   Unzipping corpora/stopwords.zip.\n"
     ]
    },
    {
     "data": {
      "text/plain": [
       "True"
      ]
     },
     "execution_count": 1,
     "metadata": {},
     "output_type": "execute_result"
    }
   ],
   "source": [
    "# download nltk stopwords\n",
    "import nltk\n",
    "nltk.download('stopwords')"
   ]
  },
  {
   "cell_type": "code",
   "execution_count": 2,
   "metadata": {
    "colab": {
     "base_uri": "https://localhost:8080/"
    },
    "executionInfo": {
     "elapsed": 11134,
     "status": "ok",
     "timestamp": 1641285910500,
     "user": {
      "displayName": "Sise.ir Sise.ir",
      "photoUrl": "https://lh3.googleusercontent.com/a/default-user=s64",
      "userId": "17225177656144426835"
     },
     "user_tz": -120
    },
    "id": "lAt6KT8xOgHH",
    "outputId": "d7ae1841-f7f2-4d05-d6b3-ae552547d708"
   },
   "outputs": [
    {
     "name": "stdout",
     "output_type": "stream",
     "text": [
      "\u001b[K     |████████████████████████████████| 106 kB 9.7 MB/s \n",
      "\u001b[K     |████████████████████████████████| 75 kB 4.0 MB/s \n",
      "\u001b[K     |████████████████████████████████| 109 kB 39.4 MB/s \n",
      "\u001b[31mERROR: pip's dependency resolver does not currently take into account all the packages that are installed. This behaviour is the source of the following dependency conflicts.\n",
      "google-cloud-translate 1.5.0 requires google-api-core[grpc]<2.0.0dev,>=1.6.0, but you have google-api-core 2.3.2 which is incompatible.\n",
      "google-cloud-translate 1.5.0 requires google-cloud-core<2.0dev,>=1.0.0, but you have google-cloud-core 2.2.1 which is incompatible.\n",
      "google-cloud-language 1.2.0 requires google-api-core[grpc]<2.0.0dev,>=1.6.0, but you have google-api-core 2.3.2 which is incompatible.\n",
      "google-cloud-firestore 1.7.0 requires google-api-core[grpc]<2.0.0dev,>=1.14.0, but you have google-api-core 2.3.2 which is incompatible.\n",
      "google-cloud-firestore 1.7.0 requires google-cloud-core<2.0dev,>=1.0.3, but you have google-cloud-core 2.2.1 which is incompatible.\n",
      "google-cloud-datastore 1.8.0 requires google-api-core[grpc]<2.0.0dev,>=1.6.0, but you have google-api-core 2.3.2 which is incompatible.\n",
      "google-cloud-datastore 1.8.0 requires google-cloud-core<2.0dev,>=1.0.0, but you have google-cloud-core 2.2.1 which is incompatible.\n",
      "google-cloud-bigquery 1.21.0 requires google-cloud-core<2.0dev,>=1.0.3, but you have google-cloud-core 2.2.1 which is incompatible.\n",
      "google-cloud-bigquery 1.21.0 requires google-resumable-media!=0.4.0,<0.5.0dev,>=0.3.1, but you have google-resumable-media 2.1.0 which is incompatible.\n",
      "google-cloud-bigquery-storage 1.1.0 requires google-api-core[grpc]<2.0.0dev,>=1.14.0, but you have google-api-core 2.3.2 which is incompatible.\n",
      "google-api-python-client 1.12.8 requires google-api-core<2dev,>=1.21.0, but you have google-api-core 2.3.2 which is incompatible.\n",
      "firebase-admin 4.4.0 requires google-api-core[grpc]<2.0.0dev,>=1.14.0; platform_python_implementation != \"PyPy\", but you have google-api-core 2.3.2 which is incompatible.\u001b[0m\n",
      "\u001b[?25h"
     ]
    }
   ],
   "source": [
    "# Install a particular version of `google-cloud-storage` because (oddly enough) \n",
    "# the  version on Colab and GCP is old. A dependency error below is okay.\n",
    "!pip install -q google-cloud-storage==1.43.0"
   ]
  },
  {
   "cell_type": "code",
   "execution_count": 3,
   "metadata": {
    "executionInfo": {
     "elapsed": 18614,
     "status": "ok",
     "timestamp": 1641285942762,
     "user": {
      "displayName": "Sise.ir Sise.ir",
      "photoUrl": "https://lh3.googleusercontent.com/a/default-user=s64",
      "userId": "17225177656144426835"
     },
     "user_tz": -120
    },
    "id": "-oKFly5jFLFn"
   },
   "outputs": [],
   "source": [
    "# authenticate below for Google Storage access as needed\n",
    "from google.colab import auth\n",
    "auth.authenticate_user()"
   ]
  },
  {
   "cell_type": "code",
   "execution_count": 4,
   "metadata": {
    "colab": {
     "base_uri": "https://localhost:8080/"
    },
    "executionInfo": {
     "elapsed": 1548,
     "status": "ok",
     "timestamp": 1641285955535,
     "user": {
      "displayName": "Sise.ir Sise.ir",
      "photoUrl": "https://lh3.googleusercontent.com/a/default-user=s64",
      "userId": "17225177656144426835"
     },
     "user_tz": -120
    },
    "id": "FrBdFNYgiyab",
    "outputId": "3e06da80-6e48-48c7-f7d0-66feaf371e16"
   },
   "outputs": [
    {
     "name": "stdout",
     "output_type": "stream",
     "text": [
      "WARNING: timestamping does nothing in combination with -O. See the manual\n",
      "for details.\n",
      "\n",
      "--2022-01-04 08:45:54--  https://bin.equinox.io/c/4VmDzA7iaHb/ngrok-stable-linux-amd64.zip\n",
      "Resolving bin.equinox.io (bin.equinox.io)... 52.202.168.65, 54.161.241.46, 54.237.133.81, ...\n",
      "Connecting to bin.equinox.io (bin.equinox.io)|52.202.168.65|:443... connected.\n",
      "HTTP request sent, awaiting response... 200 OK\n",
      "Length: 13832437 (13M) [application/octet-stream]\n",
      "Saving to: ‘ngrok-stable-linux-amd64.zip’\n",
      "\n",
      "ngrok-stable-linux- 100%[===================>]  13.19M  19.2MB/s    in 0.7s    \n",
      "\n",
      "2022-01-04 08:45:55 (19.2 MB/s) - ‘ngrok-stable-linux-amd64.zip’ saved [13832437/13832437]\n",
      "\n",
      "Archive:  ngrok-stable-linux-amd64.zip\n",
      "  inflating: ngrok                   \n"
     ]
    }
   ],
   "source": [
    "# install ngrok to emulate public IP / address\n",
    "!wget -N https://bin.equinox.io/c/4VmDzA7iaHb/ngrok-stable-linux-amd64.zip -O ngrok-stable-linux-amd64.zip\n",
    "!unzip -u ngrok-stable-linux-amd64.zip"
   ]
  },
  {
   "cell_type": "code",
   "execution_count": 5,
   "metadata": {
    "colab": {
     "base_uri": "https://localhost:8080/"
    },
    "executionInfo": {
     "elapsed": 298,
     "status": "ok",
     "timestamp": 1641286006894,
     "user": {
      "displayName": "Sise.ir Sise.ir",
      "photoUrl": "https://lh3.googleusercontent.com/a/default-user=s64",
      "userId": "17225177656144426835"
     },
     "user_tz": -120
    },
    "id": "xA-_dKEZbsXW",
    "outputId": "adbcf9ff-78d0-46e7-df05-2a15452355e0"
   },
   "outputs": [
    {
     "name": "stdout",
     "output_type": "stream",
     "text": [
      "Authtoken saved to configuration file: /root/.ngrok2/ngrok.yml\n"
     ]
    }
   ],
   "source": [
    "# TODO: sign up for an ngrok account\n",
    "# then put your ngrok token below, uncomment, and execute\n",
    "!./ngrok authtoken 22KeqcMQYpd2iRnsaZZOzlyaNw0_5NAk69pXRUMvfrf1oCNpU"
   ]
  },
  {
   "cell_type": "code",
   "execution_count": 6,
   "metadata": {
    "colab": {
     "base_uri": "https://localhost:8080/"
    },
    "executionInfo": {
     "elapsed": 6648,
     "status": "ok",
     "timestamp": 1641286030328,
     "user": {
      "displayName": "Sise.ir Sise.ir",
      "photoUrl": "https://lh3.googleusercontent.com/a/default-user=s64",
      "userId": "17225177656144426835"
     },
     "user_tz": -120
    },
    "id": "nXn5PlyGORQr",
    "outputId": "c823bfa1-f532-408f-be82-66cc63c64383"
   },
   "outputs": [
    {
     "name": "stdout",
     "output_type": "stream",
     "text": [
      "\u001b[K     |████████████████████████████████| 83 kB 916 kB/s eta 0:00:011\n",
      "\u001b[?25h"
     ]
    }
   ],
   "source": [
    "# install a ngrok python package and a version of flask that works with it in \n",
    "# colab\n",
    "!pip -q install flask-ngrok\n",
    "!pip -q install flask==0.12.2\n",
    "# !pip -q install flask_restful"
   ]
  },
  {
   "cell_type": "markdown",
   "metadata": {
    "id": "6dW0y91OVu5J"
   },
   "source": [
    "# Run the app"
   ]
  },
  {
   "cell_type": "code",
   "execution_count": 7,
   "metadata": {
    "executionInfo": {
     "elapsed": 405,
     "status": "ok",
     "timestamp": 1641286042384,
     "user": {
      "displayName": "Sise.ir Sise.ir",
      "photoUrl": "https://lh3.googleusercontent.com/a/default-user=s64",
      "userId": "17225177656144426835"
     },
     "user_tz": -120
    },
    "id": "7opNkV6uRHIv"
   },
   "outputs": [],
   "source": [
    "# you need to upload your implementation of search_app.py\n",
    "import search_frontend as se"
   ]
  },
  {
   "cell_type": "code",
   "execution_count": null,
   "metadata": {
    "id": "oTGXXYEXV5l8"
   },
   "outputs": [],
   "source": [
    "# uncomment the code below and execute to reload the module when you make \n",
    "# changes to search_frontend.py (after you upload again).\n",
    "# import importlib\n",
    "# importlib.reload(se)"
   ]
  },
  {
   "cell_type": "code",
   "execution_count": 8,
   "metadata": {
    "colab": {
     "base_uri": "https://localhost:8080/"
    },
    "executionInfo": {
     "elapsed": 327924,
     "status": "ok",
     "timestamp": 1641286377847,
     "user": {
      "displayName": "Sise.ir Sise.ir",
      "photoUrl": "https://lh3.googleusercontent.com/a/default-user=s64",
      "userId": "17225177656144426835"
     },
     "user_tz": -120
    },
    "id": "J5n9u9rFP_wD",
    "outputId": "1fa290ab-72a6-4262-cb71-9316490b3c69"
   },
   "outputs": [
    {
     "name": "stderr",
     "output_type": "stream",
     "text": [
      " * Running on http://127.0.0.1:5000/ (Press CTRL+C to quit)\n"
     ]
    },
    {
     "name": "stdout",
     "output_type": "stream",
     "text": [
      " * Running on http://c271-34-125-136-123.ngrok.io\n",
      " * Traffic stats available on http://127.0.0.1:4040\n"
     ]
    },
    {
     "name": "stderr",
     "output_type": "stream",
     "text": [
      "127.0.0.1 - - [04/Jan/2022 08:48:13] \"\u001b[37mGET /search?query=hello HTTP/1.1\u001b[0m\" 200 -\n",
      "127.0.0.1 - - [04/Jan/2022 08:48:13] \"\u001b[33mGET /favicon.ico HTTP/1.1\u001b[0m\" 404 -\n",
      "127.0.0.1 - - [04/Jan/2022 08:49:10] \"\u001b[37mGET /search_body?query=hello HTTP/1.1\u001b[0m\" 200 -\n",
      "127.0.0.1 - - [04/Jan/2022 08:49:10] \"\u001b[33mGET /favicon.ico HTTP/1.1\u001b[0m\" 404 -\n"
     ]
    }
   ],
   "source": [
    "from flask_ngrok import run_with_ngrok\n",
    "run_with_ngrok(se.app) \n",
    "se.app.run()"
   ]
  },
  {
   "cell_type": "markdown",
   "metadata": {
    "id": "Na0MC_1nzDbi"
   },
   "source": [
    "# Testing your app\n",
    "\n",
    "Once your app is running you can query it. You can simply do that by navigating to the URL that ngrok gave you above or through code in a different python session. For example, once the frontend app is running, you can navigate to:\n",
    "http://YOUR_SERVER_DOMAIN/search?query=hello+world where YOUR_SERVER_DOMAIN is something like XXXX-XX-XX-XX-XX.ngrok.io, which is printed above in Colab or that is your external IP on GCP.\n",
    "\n",
    "The code below shows how to issue a query from python. This is also how our testing code will issue queries to your search engine, so make sure to test your search engine this way after you deploy it to GCP and before submission. Command line instructions for deploying your search engine to GCP are available at `run_frontend_in_gcp.sh`. Note that we will not only issue training queries to your search engine, but also test queries, i.e. queries that you've never seen before."
   ]
  },
  {
   "cell_type": "code",
   "execution_count": 9,
   "metadata": {
    "id": "EM5ePrRHojbG"
   },
   "outputs": [],
   "source": [
    "import json\n",
    "\n",
    "with open('queries_train.json', 'rt') as f:\n",
    "    queries = json.load(f)"
   ]
  },
  {
   "cell_type": "code",
   "execution_count": 10,
   "metadata": {
    "id": "gWimZWCOy3Ei"
   },
   "outputs": [],
   "source": [
    "def average_precision(true_list, predicted_list, k=40):\n",
    "    true_set = frozenset(true_list)\n",
    "    predicted_list = predicted_list[:k]\n",
    "    precisions = []\n",
    "    for i,doc_id in enumerate(predicted_list):        \n",
    "        if doc_id in true_set:\n",
    "            prec = (len(precisions)+1) / (i+1)            \n",
    "            precisions.append(prec)\n",
    "    if len(precisions) == 0:\n",
    "        return 0.0\n",
    "    return round(sum(precisions)/len(precisions),3)"
   ]
  },
  {
   "cell_type": "code",
   "execution_count": 81,
   "metadata": {
    "id": "dYmNTq9u0ChK",
    "tags": []
   },
   "outputs": [
    {
     "name": "stdout",
     "output_type": "stream",
     "text": [
      "('best marvel movie', 5.659528732299805, 0.216)\n",
      "('How do kids come to world?', 5.43191933631897, 0.391)\n",
      "('Information retrieval', 2.926844358444214, 0.814)\n",
      "('LinkedIn', 1.1759040355682373, 1.0)\n",
      "('How to make coffee?', 2.6535773277282715, 0.407)\n",
      "('Ritalin', 1.21875, 0.807)\n",
      "('How to make wine at home?', 4.411941289901733, 0.34)\n",
      "('Most expensive city in the world', 7.155386924743652, 0.0)\n",
      "('India', 2.801788568496704, 0.284)\n",
      "('how to make money fast?', 4.193944931030273, 0.787)\n",
      "('Netflix', 1.2731688022613525, 0.463)\n",
      "('Apple computer', 2.497976541519165, 0.447)\n",
      "('The Simpsons', 1.1634855270385742, 0.121)\n",
      "('World cup', 4.473308563232422, 0.173)\n",
      "('How to lose weight?', 2.313453197479248, 0.489)\n",
      "('Java', 1.1195216178894043, 0.392)\n",
      "('Air Jordan', 2.5716300010681152, 0.5)\n",
      "('how to deal with depression?', 2.3123767375946045, 0.234)\n",
      "('How do you make gold', 3.2259209156036377, 0.312)\n",
      "('Marijuana', 1.2990565299987793, 0.16)\n",
      "('How to make hummus', 2.370551109313965, 0.768)\n",
      "('Winter', 1.4387640953063965, 1.0)\n",
      "('Rick and Morty', 1.798597812652588, 0.629)\n",
      "('Natural Language processing', 4.162908315658569, 0.69)\n",
      "('World Cup 2022', 5.2573325634002686, 0.567)\n",
      "('Dolly the sheep', 1.957021951675415, 0.848)\n",
      "('Ciggarets', 0.482391357421875, None)\n",
      "('What is the best place to live in?', 6.300091505050659, 0.0)\n",
      "('Elon musk', 1.5009324550628662, 0.525)\n",
      "('How do you breed flowers?', 2.0594069957733154, 0.5)\n"
     ]
    }
   ],
   "source": [
    "import requests\n",
    "from time import time\n",
    "# url = 'http://35.232.59.3:8080'\n",
    "# place the domain you got from ngrok or GCP IP below. \n",
    "url = 'http://bd0c-35-230-13-1.ngrok.io'\n",
    "\n",
    "qs_res = []\n",
    "for q, true_wids in queries.items():\n",
    "    duration, ap = None, None\n",
    "    t_start = time()\n",
    "    try:\n",
    "        res = requests.get(url + '/search', {'query': q}, timeout=35)\n",
    "        duration = time() - t_start\n",
    "        if res.status_code == 200:\n",
    "            pred_wids, _ = zip(*res.json())\n",
    "            ap = average_precision(true_wids, pred_wids)\n",
    "    except:\n",
    "        pass\n",
    "\n",
    "    qs_res.append((q, duration, ap))\n",
    "    print((q, duration, ap))"
   ]
  },
  {
   "cell_type": "code",
   "execution_count": 42,
   "metadata": {},
   "outputs": [],
   "source": [
    "import numpy as np"
   ]
  },
  {
   "cell_type": "code",
   "execution_count": 49,
   "metadata": {},
   "outputs": [],
   "source": [
    "# experiments\n",
    "exp_dict = dict.fromkeys([f'exp {i}' for i in range(1, 5)])"
   ]
  },
  {
   "cell_type": "code",
   "execution_count": 82,
   "metadata": {},
   "outputs": [
    {
     "data": {
      "text/plain": [
       "[2.906916069984436, 0.47806896551724143]"
      ]
     },
     "execution_count": 82,
     "metadata": {},
     "output_type": "execute_result"
    }
   ],
   "source": [
    "def avg_metrics(qs_res):\n",
    "    return [np.array([i[1] for i in qs_res]).mean(), np.array([i[2] for i in qs_res if not i[2] == None]).mean()]\n",
    "\n",
    "avg_metrics(qs_res)"
   ]
  },
  {
   "cell_type": "code",
   "execution_count": 79,
   "metadata": {},
   "outputs": [],
   "source": [
    "exp_dict['exp 4'] = avg_metrics(qs_res)"
   ]
  },
  {
   "cell_type": "code",
   "execution_count": 80,
   "metadata": {},
   "outputs": [
    {
     "data": {
      "text/plain": [
       "{'exp 1': [1.6611390749613444, 0.1126551724137931],\n",
       " 'exp 2': [2.1200825373331704, 0.1742068965517241],\n",
       " 'exp 3': [2.244534134864807, 0.46251724137931033],\n",
       " 'exp 4': [2.854855259259542, 0.4783448275862069]}"
      ]
     },
     "execution_count": 80,
     "metadata": {},
     "output_type": "execute_result"
    }
   ],
   "source": [
    "exp_dict"
   ]
  },
  {
   "cell_type": "code",
   "execution_count": 73,
   "metadata": {},
   "outputs": [
    {
     "data": {
      "text/plain": [
       "[2.244534134864807, 0.46251724137931033]"
      ]
     },
     "execution_count": 73,
     "metadata": {},
     "output_type": "execute_result"
    }
   ],
   "source": [
    "tmp_exp_3 = avg_metrics(qs_res)\n",
    "tmp_exp_3"
   ]
  },
  {
   "cell_type": "code",
   "execution_count": 90,
   "metadata": {},
   "outputs": [
    {
     "data": {
      "text/plain": [
       "array([1.66113907, 2.12008254, 2.24453413, 2.85485526])"
      ]
     },
     "execution_count": 90,
     "metadata": {},
     "output_type": "execute_result"
    }
   ],
   "source": [
    "np.array(list(exp_dict.values())).T[0]"
   ]
  },
  {
   "cell_type": "code",
   "execution_count": 93,
   "metadata": {},
   "outputs": [
    {
     "data": {
      "image/png": "[encoded data removed]",
      "text/plain": [
       "<Figure size 640x480 with 1 Axes>"
      ]
     },
     "metadata": {},
     "output_type": "display_data"
    }
   ],
   "source": [
    "#MAP@40\n",
    "import matplotlib.pyplot as plt\n",
    "\n",
    "# x and y values\n",
    "x = exp_dict.keys()\n",
    "y_duration = np.array(list(exp_dict.values())).T[0]\n",
    "y_map = np.array(list(exp_dict.values())).T[1]\n",
    "\n",
    "# Create scatter plot\n",
    "plt.scatter(x, y_duration)\n",
    "\n",
    "# Draw line between dots\n",
    "plt.plot(x, y_duration, '-o')\n",
    "\n",
    "# Add title\n",
    "plt.title('Duration at the Experimenets')\n",
    "\n",
    "# Label the x and y axis\n",
    "plt.xlabel('Experiments')\n",
    "plt.ylabel('Duration (seconds)')\n",
    "\n",
    "# Show the plot\n",
    "plt.show()"
   ]
  },
  {
   "cell_type": "code",
   "execution_count": 95,
   "metadata": {},
   "outputs": [
    {
     "data": {
      "image/png": "[encoded data removed]",
      "text/plain": [
       "<Figure size 640x480 with 1 Axes>"
      ]
     },
     "metadata": {},
     "output_type": "display_data"
    }
   ],
   "source": [
    "#MAP@40\n",
    "import matplotlib.pyplot as plt\n",
    "\n",
    "# x and y values\n",
    "x = exp_dict.keys()\n",
    "y_duration = np.array(list(exp_dict.values())).T[0]\n",
    "y_map = np.array(list(exp_dict.values())).T[1]\n",
    "\n",
    "# Create scatter plot\n",
    "plt.scatter(x, y_map)\n",
    "\n",
    "# Draw line between dots\n",
    "plt.plot(x, y_map, '-o')\n",
    "\n",
    "# Add title\n",
    "plt.title('MAP@40 at the Experimenets')\n",
    "\n",
    "# Label the x and y axis\n",
    "plt.xlabel('Experiments')\n",
    "plt.ylabel('MAP@40')\n",
    "\n",
    "# Set y axis range\n",
    "plt.ylim(0, 1)\n",
    "\n",
    "# Show the plot\n",
    "plt.show()"
   ]
  }
 ],
 "metadata": {
  "colab": {
   "authorship_tag": "ABX9TyO1f4To49YMW3UwP+tzluUe",
   "collapsed_sections": [],
   "mount_file_id": "18lALfDJw9C1S85uZ7WtBzcnNoAupWWd3",
   "name": "run_frontend_in_colab.ipynb",
   "provenance": [
    {
     "file_id": "18lALfDJw9C1S85uZ7WtBzcnNoAupWWd3",
     "timestamp": 1640012922716
    }
   ]
  },
  "kernelspec": {
   "display_name": "Python 3",
   "language": "python",
   "name": "python3"
  },
  "language_info": {
   "codemirror_mode": {
    "name": "ipython",
    "version": 3
   },
   "file_extension": ".py",
   "mimetype": "text/x-python",
   "name": "python",
   "nbconvert_exporter": "python",
   "pygments_lexer": "ipython3",
   "version": "3.8.6"
  }
 },
 "nbformat": 4,
 "nbformat_minor": 4
}
